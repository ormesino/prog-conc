{
 "cells": [
  {
   "cell_type": "markdown",
   "metadata": {},
   "source": [
    "### Execução Sequencial"
   ]
  },
  {
   "cell_type": "code",
   "execution_count": 1,
   "metadata": {},
   "outputs": [],
   "source": [
    "# Importações de bibliotecas\n",
    "import time\n",
    "import numpy as np\n",
    "from PIL import Image, ImageChops\n",
    "from concurrent.futures import ProcessPoolExecutor"
   ]
  },
  {
   "cell_type": "code",
   "execution_count": 2,
   "metadata": {},
   "outputs": [],
   "source": [
    "# Importação das imagens\n",
    "image_fullhd = Image.open('images/fullhd.jpg')\n",
    "image_2k = Image.open('images/2k.jpg')\n",
    "image_4k = Image.open('images/4k.jpg')\n",
    "image_8k = Image.open('images/8k.jpg')"
   ]
  },
  {
   "cell_type": "code",
   "execution_count": 3,
   "metadata": {},
   "outputs": [],
   "source": [
    "# Função que aplica um filtro de escala de cinza em uma imagem\n",
    "def grayscale_filter(image_array):\n",
    "\tgrayscale_array = np.zeros((image_array.shape[0], image_array.shape[1]), dtype=np.uint8)\n",
    "\t\n",
    "\t# Aplicação do filtro de escala de cinza\n",
    "\tfor y in range(image_array.shape[0]):\n",
    "\t\tfor x in range(image_array.shape[1]):\n",
    "\t\t\tr, g, b = image_array[y, x]\n",
    "\t\t\tgray = int(0.21 * r + 0.72 * g + 0.07 * b)\n",
    "\t\t\tgrayscale_array[y, x] = gray\n",
    "\t\n",
    "\t# Conversão do array de pixels para imagem\n",
    "\tgrayscale_image = Image.fromarray(grayscale_array)\n",
    "\t\n",
    "\treturn grayscale_image"
   ]
  },
  {
   "cell_type": "code",
   "execution_count": 4,
   "metadata": {},
   "outputs": [],
   "source": [
    "# Função que aplica um filtro de negativo em uma imagem\n",
    "def negative_filter(image_array):\n",
    "\tinverted_array = np.zeros((image_array.shape[0], image_array.shape[1], 3), dtype=np.uint8)\n",
    "\t\n",
    "\t# Aplicação do filtro de negativo\n",
    "\tfor y in range(image_array.shape[0]):\n",
    "\t\tfor x in range(image_array.shape[1]):\n",
    "\t\t\tinverted_array[y, x] = 255 - image_array[y, x]\n",
    "\t\n",
    "\t# Conversão do array de pixels para imagem\n",
    "\tinverted_image = Image.fromarray(inverted_array)\n",
    "\t\n",
    "\treturn inverted_image"
   ]
  },
  {
   "cell_type": "code",
   "execution_count": 8,
   "metadata": {},
   "outputs": [],
   "source": [
    "# Função que aplica filtro de forma sequencial\n",
    "def apply_seq_filter(image, func):\n",
    "\twidth, height = image.size\n",
    "\timage_array = np.array(image)\n",
    "\n",
    "\t# Avaliação do tempo de execução\n",
    "\tstart = time.time()\n",
    "\tprocessed_image = func(image_array)\n",
    "\tend = time.time()\n",
    "\n",
    "\t# Impressão do tempo de execução\n",
    "\tprint(f\"Tempo de execução sequencial para imagem {width}x{height}: {end - start}s\")\n",
    "\treturn processed_image"
   ]
  },
  {
   "cell_type": "code",
   "execution_count": 9,
   "metadata": {},
   "outputs": [],
   "source": [
    "# Função que aplica filtro de forma paralela\n",
    "def apply_par_filter(image, func, threads):\n",
    "\twidth, height = image.size\n",
    "\n",
    "\t# Divisão da imagem em regiões horizontais\n",
    "\trows = threads\n",
    "\twidth, height = image.size\n",
    "\tbase_region_height = height // rows\n",
    "\textra_height = height % rows\n",
    "\n",
    "\t# Criação de uma lista para armazenar as regiões divididas\n",
    "\tdivided_images = []\n",
    "\n",
    "\t# Dividindo da imagem em regiões e armazenando na lista\n",
    "\tfor row in range(rows):\n",
    "\t\tupper = row * base_region_height + min(row, extra_height)\n",
    "\t\tlower = (row + 1) * base_region_height + min(row + 1, extra_height)\n",
    "\t\tregion = image.crop((0, upper, width, lower))\n",
    "\t\tdivided_images.append(np.array(region))\n",
    "\n",
    "\t# Avaliação do tempo de execução paralelo\n",
    "\tstart = time.time()\n",
    "\twith ProcessPoolExecutor(max_workers=threads) as executor:\n",
    "\t\t\tfutures = [executor.submit(func, image_splited) for image_splited in divided_images]\n",
    "\tprocessed_images = [future.result() for future in futures]\n",
    "\tend = time.time()\n",
    "\n",
    "\t# Concatenação das regiões processadas\n",
    "\tprocessed_image = np.concatenate(processed_images, axis=0)\n",
    "\tprocessed_image = Image.fromarray(processed_image)\n",
    "\n",
    "\t# Impressão do tempo de execução\n",
    "\tprint(f\"Tempo de execução paralela para imagem {width}x{height} com {threads} threads: {end - start}s\")\n",
    "\treturn processed_image"
   ]
  },
  {
   "cell_type": "markdown",
   "metadata": {},
   "source": [
    "### Aplicação das Funções"
   ]
  },
  {
   "cell_type": "markdown",
   "metadata": {},
   "source": [
    "##### Filtro Negativo"
   ]
  },
  {
   "cell_type": "code",
   "execution_count": 10,
   "metadata": {},
   "outputs": [
    {
     "name": "stdout",
     "output_type": "stream",
     "text": [
      "Execução sequencial\n",
      "Tempo de execução sequencial para imagem 1920x1080: 3.0261642932891846s\n",
      "Execução paralela\n",
      "Tempo de execução paralela para imagem 1920x1080 com 1 threads: 3.0380921363830566s\n",
      "Tempo de execução paralela para imagem 1920x1080 com 2 threads: 1.6684911251068115s\n",
      "Tempo de execução paralela para imagem 1920x1080 com 4 threads: 0.8903062343597412s\n",
      "Tempo de execução paralela para imagem 1920x1080 com 8 threads: 0.5802669525146484s\n",
      "Tempo de execução paralela para imagem 1920x1080 com 12 threads: 0.5124175548553467s\n"
     ]
    }
   ],
   "source": [
    "# Aplicando filtros negativos em cada imagem de forma sequencial\n",
    "print(\"Execução sequencial\")\n",
    "image_fullhd_negative_seq = apply_seq_filter(image_fullhd, negative_filter)\n",
    "\n",
    "print('------------------')\n",
    "\n",
    "# Aplicando filtros negativos em cada imagem de forma paralela\n",
    "print(\"Execução paralela\")\n",
    "image_fullhd_negative_par = apply_par_filter(image_fullhd, negative_filter, 1)\n",
    "image_fullhd_negative_par_2 = apply_par_filter(image_fullhd, negative_filter, 2)\n",
    "image_fullhd_negative_par_4 = apply_par_filter(image_fullhd, negative_filter, 4)\n",
    "image_fullhd_negative_par_8 = apply_par_filter(image_fullhd, negative_filter, 8)\n",
    "image_fullhd_negative_par_12 = apply_par_filter(image_fullhd, negative_filter, 12)"
   ]
  },
  {
   "cell_type": "code",
   "execution_count": 11,
   "metadata": {},
   "outputs": [
    {
     "name": "stdout",
     "output_type": "stream",
     "text": [
      "Execução sequencial\n",
      "Tempo de execução sequencial para imagem 2560x1440: 5.440199613571167s\n",
      "------------------\n",
      "Execução paralela\n",
      "Tempo de execução paralela para imagem 2560x1440 com 1 threads: 5.465640068054199s\n",
      "Tempo de execução paralela para imagem 2560x1440 com 2 threads: 2.8652546405792236s\n",
      "Tempo de execução paralela para imagem 2560x1440 com 4 threads: 1.6624290943145752s\n",
      "Tempo de execução paralela para imagem 2560x1440 com 8 threads: 1.0056684017181396s\n",
      "Tempo de execução paralela para imagem 2560x1440 com 12 threads: 0.9221363067626953s\n"
     ]
    }
   ],
   "source": [
    "print(\"Execução sequencial\")\n",
    "image_2k_negative_seq = apply_seq_filter(image_2k, negative_filter)\n",
    "\n",
    "print('------------------')\n",
    "\n",
    "print(\"Execução paralela\")\n",
    "image_2k_negative_par = apply_par_filter(image_2k, negative_filter, 1)\n",
    "image_2k_negative_par_2 = apply_par_filter(image_2k, negative_filter, 2)\n",
    "image_2k_negative_par_4 = apply_par_filter(image_2k, negative_filter, 4)\n",
    "image_2k_negative_par_8 = apply_par_filter(image_2k, negative_filter, 8)\n",
    "image_2k_negative_par_12 = apply_par_filter(image_2k, negative_filter, 12)"
   ]
  },
  {
   "cell_type": "code",
   "execution_count": 12,
   "metadata": {},
   "outputs": [
    {
     "name": "stdout",
     "output_type": "stream",
     "text": [
      "Execução sequencial\n",
      "Tempo de execução sequencial para imagem 3840x2160: 12.223778009414673s\n",
      "------------------\n",
      "Execução paralela\n",
      "Tempo de execução paralela para imagem 3840x2160 com 1 threads: 12.221718788146973s\n",
      "Tempo de execução paralela para imagem 3840x2160 com 2 threads: 6.683157920837402s\n",
      "Tempo de execução paralela para imagem 3840x2160 com 4 threads: 3.75482177734375s\n",
      "Tempo de execução paralela para imagem 3840x2160 com 8 threads: 2.265040874481201s\n",
      "Tempo de execução paralela para imagem 3840x2160 com 12 threads: 2.052349328994751s\n"
     ]
    }
   ],
   "source": [
    "print(\"Execução sequencial\")\n",
    "image_4k_negative_seq = apply_seq_filter(image_4k, negative_filter)\n",
    "\n",
    "print('------------------')\n",
    "\n",
    "print(\"Execução paralela\")\n",
    "image_4k_negative_par = apply_par_filter(image_4k, negative_filter, 1)\n",
    "image_4k_negative_par_2 = apply_par_filter(image_4k, negative_filter, 2)\n",
    "image_4k_negative_par_4 = apply_par_filter(image_4k, negative_filter, 4)\n",
    "image_4k_negative_par_8 = apply_par_filter(image_4k, negative_filter, 8)\n",
    "image_4k_negative_par_12 = apply_par_filter(image_4k, negative_filter, 12)"
   ]
  },
  {
   "cell_type": "code",
   "execution_count": 13,
   "metadata": {},
   "outputs": [
    {
     "name": "stdout",
     "output_type": "stream",
     "text": [
      "Execução sequencial\n",
      "Tempo de execução sequencial para imagem 7680x4320: 48.14291477203369s\n",
      "------------------\n",
      "Execução paralela\n",
      "Tempo de execução paralela para imagem 7680x4320 com 1 threads: 49.803869009017944s\n",
      "Tempo de execução paralela para imagem 7680x4320 com 2 threads: 26.30355191230774s\n",
      "Tempo de execução paralela para imagem 7680x4320 com 4 threads: 14.325733661651611s\n",
      "Tempo de execução paralela para imagem 7680x4320 com 8 threads: 9.45074462890625s\n",
      "Tempo de execução paralela para imagem 7680x4320 com 12 threads: 8.161692142486572s\n"
     ]
    }
   ],
   "source": [
    "print(\"Execução sequencial\")\n",
    "image_8k_negative_seq = apply_seq_filter(image_8k, negative_filter)\n",
    "\n",
    "print('------------------')\n",
    "\n",
    "print(\"Execução paralela\")\n",
    "image_8k_negative_par = apply_par_filter(image_8k, negative_filter, 1)\n",
    "image_8k_negative_par_2 = apply_par_filter(image_8k, negative_filter, 2)\n",
    "image_8k_negative_par_4 = apply_par_filter(image_8k, negative_filter, 4)\n",
    "image_8k_negative_par_8 = apply_par_filter(image_8k, negative_filter, 8)\n",
    "image_8k_negative_par_12 = apply_par_filter(image_8k, negative_filter, 12)"
   ]
  },
  {
   "cell_type": "markdown",
   "metadata": {},
   "source": [
    "##### Filtro Escala de Cinza"
   ]
  },
  {
   "cell_type": "code",
   "execution_count": 19,
   "metadata": {},
   "outputs": [
    {
     "name": "stdout",
     "output_type": "stream",
     "text": [
      "Execução sequencial\n",
      "Tempo de execução sequencial para imagem 1920x1080: 11.85116958618164s\n",
      "------------------\n",
      "Execução paralela\n",
      "Tempo de execução paralela para imagem 1920x1080 com 1 threads: 12.033822774887085s\n",
      "Tempo de execução paralela para imagem 1920x1080 com 2 threads: 6.3451337814331055s\n",
      "Tempo de execução paralela para imagem 1920x1080 com 4 threads: 3.499089241027832s\n",
      "Tempo de execução paralela para imagem 1920x1080 com 8 threads: 2.44309139251709s\n",
      "Tempo de execução paralela para imagem 1920x1080 com 12 threads: 2.5391488075256348s\n"
     ]
    }
   ],
   "source": [
    "# Aplicando filtros de escala de cinza em cada imagem de forma sequencial\n",
    "print(\"Execução sequencial\")\n",
    "image_fullhd_grayscale_seq = apply_seq_filter(image_fullhd, grayscale_filter)\n",
    "\n",
    "print('------------------')\n",
    "\n",
    "# Aplicando filtros de escala de cinza em cada imagem de forma paralela\n",
    "print(\"Execução paralela\")\n",
    "image_fullhd_grayscale_par = apply_par_filter(image_fullhd, grayscale_filter, 1)\n",
    "image_fullhd_grayscale_par_2 = apply_par_filter(image_fullhd, grayscale_filter, 2)\n",
    "image_fullhd_grayscale_par_4 = apply_par_filter(image_fullhd, grayscale_filter, 4)\n",
    "image_fullhd_grayscale_par_8 = apply_par_filter(image_fullhd, grayscale_filter, 8)\n",
    "image_fullhd_grayscale_par_12 = apply_par_filter(image_fullhd, grayscale_filter, 12)"
   ]
  },
  {
   "cell_type": "code",
   "execution_count": 20,
   "metadata": {},
   "outputs": [
    {
     "name": "stdout",
     "output_type": "stream",
     "text": [
      "Execução sequencial\n",
      "Tempo de execução sequencial para imagem 2560x1440: 21.184351444244385s\n",
      "------------------\n",
      "Execução paralela\n",
      "Tempo de execução paralela para imagem 2560x1440 com 1 threads: 21.6961510181427s\n",
      "Tempo de execução paralela para imagem 2560x1440 com 2 threads: 11.221287727355957s\n",
      "Tempo de execução paralela para imagem 2560x1440 com 4 threads: 6.623650074005127s\n",
      "Tempo de execução paralela para imagem 2560x1440 com 8 threads: 3.946357488632202s\n",
      "Tempo de execução paralela para imagem 2560x1440 com 12 threads: 3.803114175796509s\n"
     ]
    }
   ],
   "source": [
    "# Aplicando filtros de escala de cinza em cada imagem de forma sequencial\n",
    "print(\"Execução sequencial\")\n",
    "image_2k_grayscale_seq = apply_seq_filter(image_2k, grayscale_filter)\n",
    "\n",
    "print('------------------')\n",
    "\n",
    "# Aplicando filtros de escala de cinza em cada imagem de forma paralela\n",
    "print(\"Execução paralela\")\n",
    "image_2k_grayscale_par = apply_par_filter(image_2k, grayscale_filter, 1)\n",
    "image_2k_grayscale_par_2 = apply_par_filter(image_2k, grayscale_filter, 2)\n",
    "image_2k_grayscale_par_4 = apply_par_filter(image_2k, grayscale_filter, 4)\n",
    "image_2k_grayscale_par_8 = apply_par_filter(image_2k, grayscale_filter, 8)\n",
    "image_2k_grayscale_par_12 = apply_par_filter(image_2k, grayscale_filter, 12)"
   ]
  },
  {
   "cell_type": "code",
   "execution_count": 21,
   "metadata": {},
   "outputs": [
    {
     "name": "stdout",
     "output_type": "stream",
     "text": [
      "Execução sequencial\n",
      "Tempo de execução sequencial para imagem 3840x2160: 47.448421239852905s\n",
      "------------------\n",
      "Execução paralela\n",
      "Tempo de execução paralela para imagem 3840x2160 com 1 threads: 47.43055295944214s\n",
      "Tempo de execução paralela para imagem 3840x2160 com 2 threads: 25.479215621948242s\n",
      "Tempo de execução paralela para imagem 3840x2160 com 4 threads: 14.064839601516724s\n",
      "Tempo de execução paralela para imagem 3840x2160 com 8 threads: 8.676408529281616s\n",
      "Tempo de execução paralela para imagem 3840x2160 com 12 threads: 7.8868207931518555s\n"
     ]
    }
   ],
   "source": [
    "# Aplicando filtros de escala de cinza em cada imagem de forma sequencial\n",
    "print(\"Execução sequencial\")\n",
    "image_4k_grayscale_seq = apply_seq_filter(image_4k, grayscale_filter)\n",
    "\n",
    "print('------------------')\n",
    "\n",
    "# Aplicando filtros de escala de cinza em cada imagem de forma paralela\n",
    "print(\"Execução paralela\")\n",
    "image_4k_grayscale_par = apply_par_filter(image_4k, grayscale_filter, 1)\n",
    "image_4k_grayscale_par_2 = apply_par_filter(image_4k, grayscale_filter, 2)\n",
    "image_4k_grayscale_par_4 = apply_par_filter(image_4k, grayscale_filter, 4)\n",
    "image_4k_grayscale_par_8 = apply_par_filter(image_4k, grayscale_filter, 8)\n",
    "image_4k_grayscale_par_12 = apply_par_filter(image_4k, grayscale_filter, 12)"
   ]
  },
  {
   "cell_type": "code",
   "execution_count": 22,
   "metadata": {},
   "outputs": [
    {
     "name": "stdout",
     "output_type": "stream",
     "text": [
      "Execução sequencial\n"
     ]
    },
    {
     "name": "stdout",
     "output_type": "stream",
     "text": [
      "Tempo de execução sequencial para imagem 7680x4320: 186.8820960521698s\n",
      "------------------\n",
      "Execução paralela\n",
      "Tempo de execução paralela para imagem 7680x4320 com 1 threads: 187.35242700576782s\n",
      "Tempo de execução paralela para imagem 7680x4320 com 2 threads: 96.20934081077576s\n",
      "Tempo de execução paralela para imagem 7680x4320 com 4 threads: 55.02587270736694s\n",
      "Tempo de execução paralela para imagem 7680x4320 com 8 threads: 35.19160509109497s\n",
      "Tempo de execução paralela para imagem 7680x4320 com 12 threads: 31.98531174659729s\n"
     ]
    }
   ],
   "source": [
    "# Aplicando filtros de escala de cinza em cada imagem de forma sequencial\n",
    "print(\"Execução sequencial\")\n",
    "image_8k_grayscale_seq = apply_seq_filter(image_8k, grayscale_filter)\n",
    "\n",
    "print('------------------')\n",
    "\n",
    "# Aplicando filtros de escala de cinza em cada imagem de forma paralela\n",
    "print(\"Execução paralela\")\n",
    "image_8k_grayscale_par = apply_par_filter(image_8k, grayscale_filter, 1)\n",
    "image_8k_grayscale_par_2 = apply_par_filter(image_8k, grayscale_filter, 2)\n",
    "image_8k_grayscale_par_4 = apply_par_filter(image_8k, grayscale_filter, 4)\n",
    "image_8k_grayscale_par_8 = apply_par_filter(image_8k, grayscale_filter, 8)\n",
    "image_8k_grayscale_par_12 = apply_par_filter(image_8k, grayscale_filter, 12)"
   ]
  },
  {
   "cell_type": "markdown",
   "metadata": {},
   "source": [
    "### Testes de Corretude"
   ]
  },
  {
   "cell_type": "code",
   "execution_count": 23,
   "metadata": {
    "vscode": {
     "languageId": "ruby"
    }
   },
   "outputs": [
    {
     "data": {
      "image/jpeg": "[encoded data removed]",
      "image/png": "[encoded data removed]",
      "text/plain": [
       "<PIL.Image.Image image mode=L size=1920x1080>"
      ]
     },
     "metadata": {},
     "output_type": "display_data"
    }
   ],
   "source": [
    "\"\"\"\n",
    "O primeiro teste de corretude diz respeito à comparação entre a imagem processada de forma sequencial e a processada de forma concorrente.\n",
    "Caso haja necessidade de comparar duas imagens, é possível utilizar a biblioteca PIL (Python Imaging Library) para realizar a comparação.\n",
    "A comparação é feita através da diferença entre as imagens, onde a imagem resultante é uma imagem preta com as diferenças entre as imagens originais.\n",
    "Se as imagens forem iguais, a imagem resultante será totalmente preta.\n",
    "Porém, se houver diferenças, a imagem resultante terá as diferenças em branco.\n",
    "\"\"\"\n",
    "\n",
    "# Exemplo de uso da biblioteca PIL para comparar duas imagens processadas\n",
    "diff = ImageChops.difference(image_fullhd_grayscale_seq, image_fullhd_grayscale_par) \n",
    "diff.show()"
   ]
  },
  {
   "cell_type": "code",
   "execution_count": 24,
   "metadata": {},
   "outputs": [
    {
     "name": "stdout",
     "output_type": "stream",
     "text": [
      "0\n"
     ]
    }
   ],
   "source": [
    "\"\"\"\n",
    "Outra forma de teste de corretude envolve a transformação das imagens processadas em arrays, seguida pela realização da diferença entre esses arrays. \n",
    "Esse método consiste em verificar se a soma dos elementos do array resultante é maior do que 0. \n",
    "Essa abordagem é útil para identificar se há diferenças significativas entre as imagens processadas, indo além da simples verificação de igualdade. \n",
    "Ao calcular a diferença entre os arrays e somar seus elementos, podemos quantificar o grau de variação entre as imagens, fornecendo uma métrica numérica para avaliar a corretude do processamento.\n",
    "\"\"\"\n",
    "\n",
    "# Transformação das imagens processadas em array\n",
    "negative_seq_array = np.array(image_fullhd_grayscale_seq)\n",
    "negative_par_array = np.array(image_fullhd_grayscale_par)\n",
    "\n",
    "# Cálculo da diferença entre as matrizes\n",
    "result_array = negative_seq_array - negative_par_array\n",
    "\n",
    "# Verificação da diferença entre as imagens de forma numérica\n",
    "print(np.sum(result_array))"
   ]
  }
 ],
 "metadata": {
  "kernelspec": {
   "display_name": "traffic_sim",
   "language": "python",
   "name": "python3"
  },
  "language_info": {
   "codemirror_mode": {
    "name": "ipython",
    "version": 3
   },
   "file_extension": ".py",
   "mimetype": "text/x-python",
   "name": "python",
   "nbconvert_exporter": "python",
   "pygments_lexer": "ipython3",
   "version": "3.12.4"
  }
 },
 "nbformat": 4,
 "nbformat_minor": 2
}
